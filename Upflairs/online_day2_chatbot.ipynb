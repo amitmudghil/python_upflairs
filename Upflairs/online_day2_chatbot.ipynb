{
 "cells": [
  {
   "cell_type": "code",
   "execution_count": 1,
   "metadata": {},
   "outputs": [],
   "source": [
    "import nltk"
   ]
  },
  {
   "cell_type": "code",
   "execution_count": 2,
   "metadata": {},
   "outputs": [],
   "source": [
    "from nltk.chat.util import Chat, reflections"
   ]
  },
  {
   "cell_type": "code",
   "execution_count": 46,
   "metadata": {},
   "outputs": [],
   "source": [
    "#Raw string: treats each character individually like we have to treat \\n individually.\n",
    "que1 = r'how are you' \n",
    "answer1 = [\n",
    "    'all well',\n",
    "    'I am good',\n",
    "    'awesome'\n",
    "]\n",
    "que2 = r'what can you do'\n",
    "answer2 = [\n",
    "    'I can reply to your queries',\n",
    "    'I am here to answer your questions',\n",
    "    'I can chat with you'\n",
    "]\n",
    "que3 = r'(.*)your name'\n",
    "answer3 = [\n",
    "    'My name is chatty',\n",
    "    'I am chatty'\n",
    "]\n",
    "ques4 = r'(.*)mausam(.*)b[a]+rish(.*)'\n",
    "answer4 = ['It look it will rain today', 'baarish ka mausam hai', 'baarish ho sakti hai mausam kharab hai']\n",
    "qa_pair = [\n",
    "    (que1 , answer1),\n",
    "    (que2 , answer2),\n",
    "    (que3 , answer3)\n",
    "]"
   ]
  },
  {
   "cell_type": "code",
   "execution_count": 48,
   "metadata": {},
   "outputs": [],
   "source": [
    "chatbot = Chat(qa_pair)"
   ]
  },
  {
   "cell_type": "code",
   "execution_count": 49,
   "metadata": {},
   "outputs": [
    {
     "name": "stdout",
     "output_type": "stream",
     "text": [
      "q:  isss mausam mein baarish ho sakti hai?\n",
      "a:  None\n"
     ]
    }
   ],
   "source": [
    "question = input(\"Enter your question: \")\n",
    "print(\"q: \", question)\n",
    "reply = chatbot.respond(question)\n",
    "print(\"a: \", reply)"
   ]
  },
  {
   "cell_type": "markdown",
   "metadata": {},
   "source": [
    "Regular expression symbols\n",
    "--------------------------\n",
    "()   group.\n",
    ".    any character except new line\n",
    "*    zero or more occurrence\n",
    "[]   set of characters\n",
    "a-z  all small alphabets\n",
    "A-Z  all caps alphabet\n",
    "0-9  all numbers\n",
    "^    starting with\n",
    "$    ends with\n",
    "?    zero or one occurence only\n",
    "+    one or more occurence\n",
    "\\w   only word characters(alphabet, numbers and underscore)\n",
    "\\W   Not word characters"
   ]
  },
  {
   "cell_type": "code",
   "execution_count": null,
   "metadata": {},
   "outputs": [],
   "source": [
    "\n"
   ]
  }
 ],
 "metadata": {
  "kernelspec": {
   "display_name": "Python 3",
   "language": "python",
   "name": "python3"
  },
  "language_info": {
   "codemirror_mode": {
    "name": "ipython",
    "version": 3
   },
   "file_extension": ".py",
   "mimetype": "text/x-python",
   "name": "python",
   "nbconvert_exporter": "python",
   "pygments_lexer": "ipython3",
   "version": "3.10.10"
  },
  "orig_nbformat": 4
 },
 "nbformat": 4,
 "nbformat_minor": 2
}
