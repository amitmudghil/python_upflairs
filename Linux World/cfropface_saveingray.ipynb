{
 "cells": [
  {
   "cell_type": "code",
   "execution_count": 9,
   "metadata": {},
   "outputs": [
    {
     "ename": "error",
     "evalue": "OpenCV(4.8.0) D:\\a\\opencv-python\\opencv-python\\opencv\\modules\\objdetect\\src\\cascadedetect.cpp:1689: error: (-215:Assertion failed) !empty() in function 'cv::CascadeClassifier::detectMultiScale'\n",
     "output_type": "error",
     "traceback": [
      "\u001b[1;31m---------------------------------------------------------------------------\u001b[0m",
      "\u001b[1;31merror\u001b[0m                                     Traceback (most recent call last)",
      "Cell \u001b[1;32mIn[9], line 14\u001b[0m\n\u001b[0;32m     11\u001b[0m face_cascade \u001b[39m=\u001b[39m cv2\u001b[39m.\u001b[39mCascadeClassifier(\u001b[39m'\u001b[39m\u001b[39mhaarcascades\u001b[39m\u001b[39m\\\u001b[39m\u001b[39mhaarcascade_frontalface_default.xml\u001b[39m\u001b[39m'\u001b[39m)\n\u001b[0;32m     13\u001b[0m \u001b[39m# detects faces in the input image\u001b[39;00m\n\u001b[1;32m---> 14\u001b[0m faces \u001b[39m=\u001b[39m face_cascade\u001b[39m.\u001b[39;49mdetectMultiScale(gray, \u001b[39m1.3\u001b[39;49m, \u001b[39m4\u001b[39;49m)\n\u001b[0;32m     15\u001b[0m \u001b[39mprint\u001b[39m(\u001b[39m'\u001b[39m\u001b[39mNumber of detected faces:\u001b[39m\u001b[39m'\u001b[39m, \u001b[39mlen\u001b[39m(faces))\n\u001b[0;32m     17\u001b[0m \u001b[39m# loop over all detected faces\u001b[39;00m\n",
      "\u001b[1;31merror\u001b[0m: OpenCV(4.8.0) D:\\a\\opencv-python\\opencv-python\\opencv\\modules\\objdetect\\src\\cascadedetect.cpp:1689: error: (-215:Assertion failed) !empty() in function 'cv::CascadeClassifier::detectMultiScale'\n"
     ]
    }
   ],
   "source": [
    "# import required libraries\n",
    "import cv2\n",
    "\n",
    "# read the input image\n",
    "img = cv2.imread('Hemant.jpg')\n",
    "\n",
    "# convert to grayscale of each frames\n",
    "gray = cv2.cvtColor(img, cv2.COLOR_BGR2GRAY)\n",
    "\n",
    "# read the haarcascade to detect the faces in an image\n",
    "face_cascade = cv2.CascadeClassifier('haarcascades\\haarcascade_frontalface_default.xml')\n",
    "\n",
    "# detects faces in the input image\n",
    "faces = face_cascade.detectMultiScale(gray, 1.3, 4)\n",
    "print('Number of detected faces:', len(faces))\n",
    "\n",
    "# loop over all detected faces\n",
    "if len(faces) > 0:\n",
    "   for i, (x, y, w, h) in enumerate(faces):\n",
    " \n",
    "      # To draw a rectangle in a face\n",
    "      cv2.rectangle(img, (x, y), (x + w, y + h), (0, 255, 255), 2)\n",
    "      face = img[y:y + h, x:x + w]\n",
    "      cv2.imshow(\"Cropped Face\", face)\n",
    "      cv2.imwrite(f'face{i}.jpg', face)\n",
    "      print(f\"face{i}.jpg is saved\")\n",
    " \n",
    "# display the image with detected faces\n",
    "cv2.imshow(\"image\", img)\n",
    "cv2.waitKey(0)\n",
    "cv2.destroyAllWindows()"
   ]
  },
  {
   "cell_type": "code",
   "execution_count": null,
   "metadata": {},
   "outputs": [],
   "source": []
  }
 ],
 "metadata": {
  "kernelspec": {
   "display_name": "Python 3",
   "language": "python",
   "name": "python3"
  },
  "language_info": {
   "codemirror_mode": {
    "name": "ipython",
    "version": 3
   },
   "file_extension": ".py",
   "mimetype": "text/x-python",
   "name": "python",
   "nbconvert_exporter": "python",
   "pygments_lexer": "ipython3",
   "version": "3.10.10"
  },
  "orig_nbformat": 4
 },
 "nbformat": 4,
 "nbformat_minor": 2
}
