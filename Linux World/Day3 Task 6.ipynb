{
 "cells": [
  {
   "cell_type": "code",
   "execution_count": 2,
   "metadata": {},
   "outputs": [],
   "source": [
    "import speech_recognition as sr\n",
    "import pyttsx3 as p\n",
    "import pyaudio\n",
    "import os"
   ]
  },
  {
   "cell_type": "code",
   "execution_count": 2,
   "metadata": {},
   "outputs": [
    {
     "name": "stdout",
     "output_type": "stream",
     "text": [
      "speak:\n"
     ]
    },
    {
     "ename": "WaitTimeoutError",
     "evalue": "listening timed out while waiting for phrase to start",
     "output_type": "error",
     "traceback": [
      "\u001b[1;31m---------------------------------------------------------------------------\u001b[0m",
      "\u001b[1;31mWaitTimeoutError\u001b[0m                          Traceback (most recent call last)",
      "Cell \u001b[1;32mIn[2], line 4\u001b[0m\n\u001b[0;32m      2\u001b[0m \u001b[39mwith\u001b[39;00m sr\u001b[39m.\u001b[39mMicrophone() \u001b[39mas\u001b[39;00m mic:\n\u001b[0;32m      3\u001b[0m     \u001b[39mprint\u001b[39m(\u001b[39m\"\u001b[39m\u001b[39mspeak:\u001b[39m\u001b[39m\"\u001b[39m)\n\u001b[1;32m----> 4\u001b[0m     audio \u001b[39m=\u001b[39m rec\u001b[39m.\u001b[39;49mlisten(mic, timeout\u001b[39m=\u001b[39;49m\u001b[39m1\u001b[39;49m, phrase_time_limit\u001b[39m=\u001b[39;49m\u001b[39m4\u001b[39;49m)\n\u001b[0;32m      5\u001b[0m     \u001b[39mtry\u001b[39;00m:\n\u001b[0;32m      6\u001b[0m         text \u001b[39m=\u001b[39m rec\u001b[39m.\u001b[39mrecognize_google(audio)\u001b[39m.\u001b[39mlower()\n",
      "File \u001b[1;32mc:\\Users\\heman\\AppData\\Local\\Programs\\Python\\Python310\\lib\\site-packages\\speech_recognition\\__init__.py:489\u001b[0m, in \u001b[0;36mRecognizer.listen\u001b[1;34m(self, source, timeout, phrase_time_limit, snowboy_configuration)\u001b[0m\n\u001b[0;32m    487\u001b[0m elapsed_time \u001b[39m+\u001b[39m\u001b[39m=\u001b[39m seconds_per_buffer\n\u001b[0;32m    488\u001b[0m \u001b[39mif\u001b[39;00m timeout \u001b[39mand\u001b[39;00m elapsed_time \u001b[39m>\u001b[39m timeout:\n\u001b[1;32m--> 489\u001b[0m     \u001b[39mraise\u001b[39;00m WaitTimeoutError(\u001b[39m\"\u001b[39m\u001b[39mlistening timed out while waiting for phrase to start\u001b[39m\u001b[39m\"\u001b[39m)\n\u001b[0;32m    491\u001b[0m buffer \u001b[39m=\u001b[39m source\u001b[39m.\u001b[39mstream\u001b[39m.\u001b[39mread(source\u001b[39m.\u001b[39mCHUNK)\n\u001b[0;32m    492\u001b[0m \u001b[39mif\u001b[39;00m \u001b[39mlen\u001b[39m(buffer) \u001b[39m==\u001b[39m \u001b[39m0\u001b[39m: \u001b[39mbreak\u001b[39;00m  \u001b[39m# reached end of the stream\u001b[39;00m\n",
      "\u001b[1;31mWaitTimeoutError\u001b[0m: listening timed out while waiting for phrase to start"
     ]
    }
   ],
   "source": [
    "rec = sr.Recognizer()\n",
    "with sr.Microphone() as mic:\n",
    "    print(\"speak:\")\n",
    "    audio = rec.listen(mic, timeout=1, phrase_time_limit=4)\n",
    "    try:\n",
    "        text = rec.recognize_google(audio).lower()\n",
    "        print(\"You said : \"+text)\n",
    "    except Exception as err:\n",
    "        print(\"Error:\", err, end='\\n\\n')\n",
    "if (('run' in text)or('execute' in text)) and not(\"don't\" in text) and ('notepad' in text):\n",
    "    os.system(\"notepad\")\n",
    "elif (('run' in text)or('execute' in text)) and not(\"don't\" in text) and ('chrome' in text):\n",
    "    os.system(\"chrome\")\n",
    "elif (('run' in text)or('execute' in text)) and not(\"don't\" in text) and ('whatsapp' in text):\n",
    "    os.system(\"whatsapp\")"
   ]
  },
  {
   "cell_type": "code",
   "execution_count": 3,
   "metadata": {},
   "outputs": [],
   "source": [
    "os.system(\"\")"
   ]
  },
  {
   "cell_type": "code",
   "execution_count": null,
   "metadata": {},
   "outputs": [],
   "source": []
  }
 ],
 "metadata": {
  "kernelspec": {
   "display_name": "Python 3",
   "language": "python",
   "name": "python3"
  },
  "language_info": {
   "codemirror_mode": {
    "name": "ipython",
    "version": 3
   },
   "file_extension": ".py",
   "mimetype": "text/x-python",
   "name": "python",
   "nbconvert_exporter": "python",
   "pygments_lexer": "ipython3",
   "version": "3.10.10"
  },
  "orig_nbformat": 4
 },
 "nbformat": 4,
 "nbformat_minor": 2
}
