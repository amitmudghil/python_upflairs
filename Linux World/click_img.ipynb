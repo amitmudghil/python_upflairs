{
 "cells": [
  {
   "cell_type": "code",
   "execution_count": 1,
   "metadata": {},
   "outputs": [],
   "source": [
    "import cv2\n",
    "cam_port = 0\n",
    "cam = cv2.VideoCapture(cam_port)\n",
    "# reading the input using the camera\n",
    "result, image = cam.read()\n",
    "\n",
    "# If image will detected without any error,\n",
    "# show result\n",
    "if result:\n",
    "\n",
    "\t# showing result, it take frame name and image\n",
    "\t# output\n",
    "\tcv2.imshow(\"Hemant\", image)\n",
    "\n",
    "\t# saving image in local storage\n",
    "\tcv2.imwrite(\"Hemant.jpg\", image)\n",
    "\n",
    "\t# If keyboard interrupt occurs, destroy image\n",
    "\t# window\n",
    "\tcv2.waitKey(0)\n",
    "\tcv2.destroyWindow(\"Hemant\")\n",
    "\n",
    "# If captured image is corrupted, moving to else part\n",
    "else:\n",
    "\tprint(\"No image detected. Please! try again\")\n"
   ]
  },
  {
   "cell_type": "code",
   "execution_count": null,
   "metadata": {},
   "outputs": [],
   "source": []
  }
 ],
 "metadata": {
  "kernelspec": {
   "display_name": "Python 3",
   "language": "python",
   "name": "python3"
  },
  "language_info": {
   "codemirror_mode": {
    "name": "ipython",
    "version": 3
   },
   "file_extension": ".py",
   "mimetype": "text/x-python",
   "name": "python",
   "nbconvert_exporter": "python",
   "pygments_lexer": "ipython3",
   "version": "3.10.10"
  },
  "orig_nbformat": 4
 },
 "nbformat": 4,
 "nbformat_minor": 2
}
